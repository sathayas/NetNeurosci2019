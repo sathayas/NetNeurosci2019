{
 "cells": [
  {
   "cell_type": "markdown",
   "metadata": {},
   "source": [
    "# Outline\n",
    "\n",
    "***\n",
    "\n",
    "## Explosive percolation\n",
    "* Percolation schematic\n",
    "  * Percolation animation\n",
    "* Explosive percolation schematic\n",
    "  * Percolation & Explosive percolation animation side-by-side\n",
    "\n",
    "## Thresholded networks\n",
    "* Hard thresholding\n",
    "  * Lack of phase transition\n",
    "  * Fragmented components\n",
    "* Node-wise thresholding\n",
    "  * Explosive percolation\n",
    "  \n",
    "## Anti-fragmentation\n",
    "* fMRI network with cc200\n",
    "  * Giant component plot\n",
    "* Voxel-level fMRI network\n",
    "  * Giant component plot\n",
    "  * Module tree map\n",
    "\n",
    "## Demo"
   ]
  }
 ],
 "metadata": {
  "kernelspec": {
   "display_name": "Python 3",
   "language": "python",
   "name": "python3"
  },
  "language_info": {
   "codemirror_mode": {
    "name": "ipython",
    "version": 3
   },
   "file_extension": ".py",
   "mimetype": "text/x-python",
   "name": "python",
   "nbconvert_exporter": "python",
   "pygments_lexer": "ipython3",
   "version": "3.6.5"
  }
 },
 "nbformat": 4,
 "nbformat_minor": 2
}
