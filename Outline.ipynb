{
 "cells": [
  {
   "cell_type": "markdown",
   "metadata": {},
   "source": [
    "# Outline\n",
    "\n",
    "***\n",
    "## Acknowledgements & Demo info\n",
    "\n",
    "## Explosive percolation\n",
    "* Percolation animation (done)\n",
    "* Percolation threshold (from Biostat talk)\n",
    "* Making phase transition more abrupt (from Biostat talk)\n",
    "* Explosive percolation schematic (from Biostat talk)\n",
    "* Explosive percolation animation (done)\n",
    "\n",
    "## Thresholded networks\n",
    "* Thresholded network -- representing associations as edges\n",
    "  * Not tangible connections\n",
    "  * How can we best represent the relationship?\n",
    "  * Threshold to identify edges\n",
    "* Hard thresholding\n",
    "  * Hard thresholding animation (done)\n",
    "  * Lack of phase transition, S&P500, Gene expression, Voxel brain net (from Physica A paper)\n",
    "* Node-wise thresholding\n",
    "  * Explosive percolation, S&P500, Gene expression, Voxel brain net (to be coded) \n",
    "\n",
    "  \n",
    "## Anti-fragmentation\n",
    "* Hard thresholding -- fragmented components\n",
    "  * Exhibit 1: Foti paper\n",
    "  * Exhibit 2: S&P 500 network\n",
    "  * Exhibit 3: Giant component size plot (from Brain Conn paper)\n",
    "* Fragmentation of modules\n",
    "  * Tree map word cloud (from HBM 2018 poster, but re-code so that it's available)\n",
    "* Consistency of modules \n",
    "  * Overview of data\n",
    "  * DMN module (from HBM 2018 poster)\n",
    "  * SM module (from HBM 2018 poster)\n",
    "\n",
    "\n",
    "## Demo (Jupyter)\n",
    "* Demon info: how to get data & code & notebook\n",
    "* Data: ROI time series, Oxford sub16112\n",
    "  * Atlas: Craddock, temporal 2-level, K=200\n",
    "* Calculate correlation matrix\n",
    "* Thresholding\n",
    "  * Hard thresholding with target k\n",
    "  * Node-wise thresholding with an appropriate d\n",
    "  * Network visualization\n",
    "  * Degree distribution\n",
    "* Modules\n",
    "  * Hard thresholding\n",
    "  * Node-wise thresholding"
   ]
  }
 ],
 "metadata": {
  "kernelspec": {
   "display_name": "Python 3",
   "language": "python",
   "name": "python3"
  },
  "language_info": {
   "codemirror_mode": {
    "name": "ipython",
    "version": 3
   },
   "file_extension": ".py",
   "mimetype": "text/x-python",
   "name": "python",
   "nbconvert_exporter": "python",
   "pygments_lexer": "ipython3",
   "version": "3.6.5"
  }
 },
 "nbformat": 4,
 "nbformat_minor": 2
}
